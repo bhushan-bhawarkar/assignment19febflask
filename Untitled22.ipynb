{
  "nbformat": 4,
  "nbformat_minor": 0,
  "metadata": {
    "colab": {
      "provenance": []
    },
    "kernelspec": {
      "name": "python3",
      "display_name": "Python 3"
    },
    "language_info": {
      "name": "python"
    }
  },
  "cells": [
    {
      "cell_type": "markdown",
      "source": [
        "Q1. What is Flask Framework? What are the advantages of Flask Framework?"
      ],
      "metadata": {
        "id": "VhUhJB-8NzpX"
      }
    },
    {
      "cell_type": "markdown",
      "source": [
        "Flask is a micro web framework for Python, which is used to build web applications. It is designed to be lightweight and easy to use, making it a popular choice among developers who want to quickly prototype or build small to medium-sized web applications. Flask provides a simple interface for handling HTTP requests and responses, and it can be easily extended with various plugins and extensions to add more functionality.\n",
        "\n",
        "Some advantages of using Flask framework are:\n",
        "\n",
        "Lightweight and flexible: Flask is a lightweight and flexible framework that allows developers to add or remove features as per their project requirements. It is not bloated with unnecessary features and is easy to learn and use.\n",
        "\n",
        "Easy to set up: Flask is easy to set up and get started with. It requires minimal boilerplate code and can be set up in minutes.\n",
        "\n",
        "Extensible: Flask can be easily extended with various plugins and extensions available in the Flask ecosystem. This allows developers to add more functionality to their applications without having to reinvent the wheel.\n",
        "\n",
        "Supports multiple databases: Flask supports multiple databases including SQLite, MySQL, and PostgreSQL, making it a great choice for applications that require database integration.\n",
        "\n",
        "Python integration: Flask is built in Python, making it easy for developers who already know Python to get started with the framework.\n",
        "\n",
        "Great for prototyping: Flask is great for prototyping as it allows developers to quickly build and test web applications without having to worry about the complexities of larger frameworks."
      ],
      "metadata": {
        "id": "X9T6PMRrN4Qo"
      }
    },
    {
      "cell_type": "markdown",
      "source": [
        "Q2. Create a simple Flask application to display ‘Hello World!!’. Attach the screenshot of the output in\n",
        "Jupyter Notebook."
      ],
      "metadata": {
        "id": "AfcdbGT7SWwE"
      }
    },
    {
      "cell_type": "code",
      "source": [
        "from flask import Flask\n",
        "app = Flask(__name__)\n",
        "\n",
        "@app.route('/')\n",
        "def bhushan():\n",
        "  return \"Hello world\"\n",
        "\n",
        "if __name__ == \"__main__\":\n",
        "  app.run(host=\"0.0.0.0\")  "
      ],
      "metadata": {
        "id": "Aad4Hh9lUerC"
      },
      "execution_count": null,
      "outputs": []
    },
    {
      "cell_type": "markdown",
      "source": [
        "Q3. What is App routing in Flask? Why do we use app routes?"
      ],
      "metadata": {
        "id": "-8IN67QYaiap"
      }
    },
    {
      "cell_type": "markdown",
      "source": [
        "App routing in Flask is the process of mapping incoming URLs to functions or methods that handle the corresponding HTTP requests. In Flask, app routing is accomplished using decorators, which associate URL patterns with functions or methods that handle those URLs. For example, the following code defines a route for the URL '/hello':\n",
        "\n",
        "python\n"
      ],
      "metadata": {
        "id": "AfAI1SIYZKcP"
      }
    },
    {
      "cell_type": "code",
      "source": [
        "from flask import Flask\n",
        "\n",
        "app = Flask(__name__)\n",
        "\n",
        "@app.route('/hello')\n",
        "def hello():\n",
        "    return 'Hello, World!'"
      ],
      "metadata": {
        "id": "BC_CLClHZLgq"
      },
      "execution_count": null,
      "outputs": []
    },
    {
      "cell_type": "markdown",
      "source": [
        "In this example, the @app.route decorator associates the URL pattern '/hello' with the hello() function. When a client makes a request to the URL '/hello', Flask invokes the hello() function and returns the response to the client.\n",
        "\n",
        "We use app routes in Flask to provide a structured and organized way to handle HTTP requests. By defining routes for specific URLs, we can ensure that our application responds appropriately to incoming requests. App routes also make it easy to change the behavior of our application by simply modifying the associated functions or methods.\n",
        "\n",
        "Additionally, app routes provide a mechanism for handling HTTP methods (GET, POST, PUT, DELETE, etc.) and passing parameters in the URL. For example, the following code defines a route that accepts a parameter in the URL:\n",
        "\n",
        "python\n",
        "Copy code\n",
        "@app.route('/hello/<name>')\n",
        "def hello_name(name):\n",
        "    return f'Hello, {name}!'\n",
        "In this example, the URL pattern '/hello/<name>' specifies a parameter named 'name'. When a client makes a request to a URL such as '/hello/John', Flask extracts the value 'John' from the URL and passes it as an argument to the hello_name() function.\n",
        "\n",
        "Overall, app routing in Flask is a powerful feature that allows us to create dynamic and flexible web applications. It helps to organize our code and provides a clear and consistent way to handle incoming requests.\n",
        "\n",
        "\n",
        "\n",
        "\n"
      ],
      "metadata": {
        "id": "W5jt4pLVZxnO"
      }
    },
    {
      "cell_type": "markdown",
      "source": [
        "Q4. Create a “/welcome” route to display the welcome message “Welcome to ABC Corporation” and a “/”\n",
        "route to show the following details:\n",
        "Company Name: ABC Corporation\n",
        "Location: India\n",
        "Contact Detail: 999-999-9999"
      ],
      "metadata": {
        "id": "ReLMiGQUZ4nf"
      }
    },
    {
      "cell_type": "code",
      "source": [
        "from flask import Flask\n",
        "app = Flask(__name__)\n",
        "\n",
        "@app.route('/welcome')\n",
        "def welcome():\n",
        "  return \"Welcome to ABC Corporation\"\n",
        "\n",
        "@app.route('/')\n",
        "def detail():\n",
        "  return f\"Company Name: ABC Corporation Location /n India Contact Detail: 999-999-9999 \"\n",
        "\n",
        "\n",
        "if __name__ == \"__main__\":\n",
        "  app.run(host=\"0.0.0.0\")  "
      ],
      "metadata": {
        "id": "eeTt7o6gar8U"
      },
      "execution_count": null,
      "outputs": []
    },
    {
      "cell_type": "markdown",
      "source": [
        "Q5. What function is used in Flask for URL Building? Write a Python code to demonstrate the working of the\n",
        "url_for() function."
      ],
      "metadata": {
        "id": "lDhEL3IogpIU"
      }
    },
    {
      "cell_type": "markdown",
      "source": [
        "The url_for() function is used in Flask for URL building. It generates a URL based on the name of a view function and any arguments provided.\n",
        "\n"
      ],
      "metadata": {
        "id": "7CeTknXdkRPB"
      }
    },
    {
      "cell_type": "code",
      "source": [
        "from flask import Flask ,url_for\n",
        "app = Flask(__name__)\n",
        "\n",
        "@app.route('/hello/<name>')\n",
        "def hello(name):\n",
        "  return f\"HELLO {name}\"\n",
        "\n",
        "@app.route('/')\n",
        "def urlfor():\n",
        "  return f\"this is the url of {url_for(\"hello\",name=\"bhushan\")}\"\n",
        "\n",
        "if __name__ == \"__main\":\n",
        "  app.run(host=\"0.0.0.0\")  \n"
      ],
      "metadata": {
        "id": "2hnLf22Cgt5d"
      },
      "execution_count": null,
      "outputs": []
    }
  ]
}